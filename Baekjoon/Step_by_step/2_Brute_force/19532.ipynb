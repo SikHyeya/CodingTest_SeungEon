{
 "cells": [
  {
   "cell_type": "code",
   "execution_count": 7,
   "id": "cde67c9b",
   "metadata": {},
   "outputs": [
    {
     "name": "stdout",
     "output_type": "stream",
     "text": [
      "2 5 8 3 -4 -11\n",
      "-1 2\n"
     ]
    }
   ],
   "source": [
    "# 23.11.03\n",
    "# 수학은 비대면강의입니다\n",
    "\n",
    "# BF 풀이법\n",
    "# 처음에 a, b, c, d, e, f 만 -999~999의 범위로 제한된 줄 알고 못 풀어서 결국 서치,\n",
    "# x, y 도 각각 -999~999 이하의 정수인 경우만 입력으로 주어짐이 보장되는 것을 발견.\n",
    "# 문제를 꼼꼼히 읽자\n",
    "\n",
    "a, b, c, d, e, f = map(int, input().split())\n",
    "for x in range(-999, 1000):\n",
    "    for y in range(-999, 1000):\n",
    "        if a * x + b * y == c and d * x + e * y == f:\n",
    "            print(x, y)\n",
    "            break"
   ]
  },
  {
   "cell_type": "code",
   "execution_count": null,
   "id": "d3e7a4c0",
   "metadata": {},
   "outputs": [],
   "source": [
    "# 다른 사람의 풀이\n",
    "# 연립방정식의 풀이 - 가감법 사용\n",
    "# 시간 효율적\n",
    "\n",
    "a, b, c, d, e, f = map(int, input().split())\n",
    "print((c*e - b*f)//(a*e - b*d), (a*f - d*c)//(a*e - b*d))"
   ]
  }
 ],
 "metadata": {
  "kernelspec": {
   "display_name": "Python 3 (ipykernel)",
   "language": "python",
   "name": "python3"
  },
  "language_info": {
   "codemirror_mode": {
    "name": "ipython",
    "version": 3
   },
   "file_extension": ".py",
   "mimetype": "text/x-python",
   "name": "python",
   "nbconvert_exporter": "python",
   "pygments_lexer": "ipython3",
   "version": "3.11.3"
  }
 },
 "nbformat": 4,
 "nbformat_minor": 5
}
