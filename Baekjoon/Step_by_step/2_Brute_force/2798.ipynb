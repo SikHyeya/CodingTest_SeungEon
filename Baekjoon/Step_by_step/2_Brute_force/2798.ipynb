{
 "cells": [
  {
   "cell_type": "code",
   "execution_count": 9,
   "id": "f1a64aa0",
   "metadata": {},
   "outputs": [
    {
     "name": "stdout",
     "output_type": "stream",
     "text": [
      "10 500\n",
      "93 181 245 214 315 36 185 138 216 295\n",
      "497\n",
      "코드 실행 시간: 0.000640869140625 초\n"
     ]
    }
   ],
   "source": [
    "# 23.11.02\n",
    "# 블랙잭\n",
    "\n",
    "import time\n",
    "from itertools import permutations\n",
    "\n",
    "\n",
    "n, m = map(int, input().split())\n",
    "numbers = list(map(int, input().split()))\n",
    "\n",
    "start_time = time.time()\n",
    "result = []\n",
    "\n",
    "a = list(permutations(numbers, 3))\n",
    "for s in a:\n",
    "    if sum(s) <= m:\n",
    "        result.append(sum(s))\n",
    "print(max(result))\n",
    "end_time = time.time()\n",
    "print(f\"코드 실행 시간: {end_time - start_time} 초\")"
   ]
  },
  {
   "cell_type": "code",
   "execution_count": 10,
   "id": "562ecc62",
   "metadata": {},
   "outputs": [
    {
     "name": "stdout",
     "output_type": "stream",
     "text": [
      "10 500\n",
      "93 181 245 214 315 36 185 138 216 295\n",
      "497\n",
      "코드 실행 시간: 0.000354766845703125 초\n"
     ]
    }
   ],
   "source": [
    "# 23.11.02\n",
    "# 블랙잭\n",
    "\n",
    "import time\n",
    "from itertools import combinations\n",
    "\n",
    "\n",
    "n, m = map(int, input().split())10 500\n",
    "numbers = list(map(int, input().split()))\n",
    "\n",
    "start_time = time.time()\n",
    "result = []\n",
    "\n",
    "a = list(combinations(numbers, 3))\n",
    "for s in a:\n",
    "    if sum(s) <= m:\n",
    "        result.append(sum(s))\n",
    "print(max(result))\n",
    "end_time = time.time()\n",
    "print(f\"코드 실행 시간: {end_time - start_time} 초\")"
   ]
  }
 ],
 "metadata": {
  "kernelspec": {
   "display_name": "Python 3 (ipykernel)",
   "language": "python",
   "name": "python3"
  },
  "language_info": {
   "codemirror_mode": {
    "name": "ipython",
    "version": 3
   },
   "file_extension": ".py",
   "mimetype": "text/x-python",
   "name": "python",
   "nbconvert_exporter": "python",
   "pygments_lexer": "ipython3",
   "version": "3.11.3"
  }
 },
 "nbformat": 4,
 "nbformat_minor": 5
}
