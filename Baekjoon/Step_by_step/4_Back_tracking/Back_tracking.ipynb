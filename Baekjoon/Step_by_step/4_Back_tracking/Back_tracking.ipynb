{
 "cells": [
  {
   "cell_type": "markdown",
   "id": "ed1ae8d3",
   "metadata": {},
   "source": [
    "# Back-tracking\n",
    "현재 상태에서 가능한 모든 경로를 따라 들어가 탐색하다가 원하는 값과 불일치하는 부분이 발생하면 더 이상 탐색을 진행하지 않고 전 단계로 돌아가는, 즉 이름 그대로 방금 왔던 길을 되짚어가는, backtrack 하는 알고리즘이다.\n",
    "- 재귀적\n",
    "- 최적화 문제, 결정 문제에서 많이 사용\n",
    "- 어떤 노드의 **유망성**을 점검한 후에 유망하지 않다고 결정되면 그 노드의 부모로 되돌아가 다음 자식 노드로 탐색\n",
    "\n",
    "\n",
    "### 백트래킹과 DFS의 차이\n",
    "#### DFS\n",
    "- 모든 경우의 수 탐색\n",
    "#### 백트래킹\n",
    "- 원하는 값을 찾으면, 더 이상 탐색하지 않고 넘어감"
   ]
  },
  {
   "cell_type": "markdown",
   "id": "8bc389c8",
   "metadata": {},
   "source": [
    "백트래킹 코드의 형태"
   ]
  },
  {
   "cell_type": "code",
   "execution_count": null,
   "id": "15c8da25",
   "metadata": {},
   "outputs": [],
   "source": [
    "def 재귀함수(n):\n",
    "\tif 정답이면 :\n",
    "\t\t출력 or 저장\n",
    "\telse : 정답이 아니면 :\n",
    "\t\tfor 모든 자식 노드에 대해서:\n",
    "\t\t\tif 정답에 유망하다면(답의 가능성이 있으면) :\n",
    "\t\t\t\t자식노드로이동\n",
    "\t\t\t\t재귀함수(n+1)\n",
    "\t\t\t\t부모노드로 이동"
   ]
  },
  {
   "cell_type": "markdown",
   "id": "b1dc4e19",
   "metadata": {},
   "source": [
    "백트래킹의 경우 유망 조건을 따로 함수로 만들어줘서 아래와 같이 구성하는 경우가 많다."
   ]
  },
  {
   "cell_type": "code",
   "execution_count": null,
   "id": "f4942f3d",
   "metadata": {},
   "outputs": [],
   "source": [
    "def 백트래킹(n):\n",
    "\tif 정답이면 :\n",
    "\t\t출력 or 저장\n",
    "\telse :\n",
    "\t\tfor 모든 자식 노드에 대해 :\n",
    "\t\t\tif 유망한지확인(m) :\n",
    "\t\t\t\t자식노드로 이동\n",
    "\t\t\t\t백트래킹(n+1)\n",
    "\t\t\t\t부모노드로 이동\n",
    "\n",
    "def 유망한지확인(m):\n",
    "\tif 조건에 안맞으면 :\n",
    "\t\treturn False\n",
    "\treturn True"
   ]
  },
  {
   "cell_type": "markdown",
   "id": "bafc89f2",
   "metadata": {},
   "source": [
    "##### Reference\n",
    "https://edder773.tistory.com/75 [개발하는 차리의 공부 일기:티스토리] "
   ]
  }
 ],
 "metadata": {
  "kernelspec": {
   "display_name": "Python 3 (ipykernel)",
   "language": "python",
   "name": "python3"
  },
  "language_info": {
   "codemirror_mode": {
    "name": "ipython",
    "version": 3
   },
   "file_extension": ".py",
   "mimetype": "text/x-python",
   "name": "python",
   "nbconvert_exporter": "python",
   "pygments_lexer": "ipython3",
   "version": "3.11.3"
  }
 },
 "nbformat": 4,
 "nbformat_minor": 5
}
