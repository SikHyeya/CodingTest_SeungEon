{
 "cells": [
  {
   "cell_type": "code",
   "execution_count": 37,
   "id": "808a5693",
   "metadata": {
    "scrolled": false
   },
   "outputs": [
    {
     "name": "stdout",
     "output_type": "stream",
     "text": [
      "216\n",
      "198\n"
     ]
    }
   ],
   "source": [
    "# 23.11.02\n",
    "# 분해합\n",
    "# 풀이 1 - 통과\n",
    "# BF 문제 범위는 1,000,000(백만)인 경우가 많음!\n",
    "\n",
    "n = int(input())\n",
    "flag = False\n",
    "for i in range(n):\n",
    "    if i + sum(list(map(int, str(i)))) == n:\n",
    "        print(i)\n",
    "        flag = True\n",
    "        break\n",
    "if not flag:\n",
    "    print(0)"
   ]
  },
  {
   "cell_type": "code",
   "execution_count": 33,
   "id": "35bccb8a",
   "metadata": {},
   "outputs": [
    {
     "name": "stdout",
     "output_type": "stream",
     "text": [
      "216\n",
      "198\n"
     ]
    }
   ],
   "source": [
    "# 23.11.02\n",
    "# 분해합\n",
    "# 풀이 2\n",
    "n = int(input())\n",
    "answer = 0\n",
    "for i in range(n):\n",
    "    if i + sum(map(int, str(i))) == n:\n",
    "        answer = i\n",
    "        break\n",
    "print(answer)"
   ]
  },
  {
   "cell_type": "code",
   "execution_count": null,
   "id": "85c3e895",
   "metadata": {},
   "outputs": [],
   "source": [
    "# 다른 사람의 풀이\n",
    "# 시간 차이가 꽤 많이 난다! - 시간 효율성 good\n",
    "\n",
    "N = int(input())\n",
    "ans = 0\n",
    "\n",
    "# 시간 최적화를 위해 범위 지정\n",
    "# N의 각 자릿수의 합의 최대인 (자릿수 * 9) 한 값을 빼줌\n",
    "# 이때 N이 0~9이면 값이 음수가 나오기 때문에 max로 처리해주기\n",
    "for i in range(max(0, N - len(str(N)) * 9), N):\n",
    "    if sum(map(int, str(i))) + i == N:\n",
    "        ans = i\n",
    "        break\n",
    "print(ans)"
   ]
  }
 ],
 "metadata": {
  "kernelspec": {
   "display_name": "Python 3 (ipykernel)",
   "language": "python",
   "name": "python3"
  },
  "language_info": {
   "codemirror_mode": {
    "name": "ipython",
    "version": 3
   },
   "file_extension": ".py",
   "mimetype": "text/x-python",
   "name": "python",
   "nbconvert_exporter": "python",
   "pygments_lexer": "ipython3",
   "version": "3.11.3"
  }
 },
 "nbformat": 4,
 "nbformat_minor": 5
}
